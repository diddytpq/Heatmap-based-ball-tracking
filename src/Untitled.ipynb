{
 "cells": [
  {
   "cell_type": "code",
   "execution_count": 1,
   "id": "5b6637e5",
   "metadata": {},
   "outputs": [],
   "source": [
    "import pandas as pd\n",
    "from torch.utils import data\n",
    "import numpy as np\n",
    "import torch\n",
    "import os\n",
    "from PIL import Image\n",
    "import random\n",
    "import cv2\n",
    "\n",
    "HEIGHT=288\n",
    "WIDTH=512\n",
    "mag = 1\n",
    "sigma = 2.5\n"
   ]
  },
  {
   "cell_type": "code",
   "execution_count": 2,
   "id": "2bd56e54",
   "metadata": {},
   "outputs": [],
   "source": [
    "\n",
    "def genHeatMap(w, h, cx, cy, r, mag):\n",
    "    if cx < 0 or cy < 0:\n",
    "      return np.zeros((h, w))\n",
    "    x, y = np.meshgrid(np.linspace(1, w, w), np.linspace(1, h, h))\n",
    "    heatmap = ((y - (cy + 1))**2) + ((x - (cx + 1))**2)\n",
    "    heatmap[heatmap <= r**2] = 1\n",
    "    heatmap[heatmap > r**2] = 0\n",
    "    return heatmap*mag\n",
    "\n",
    "\n",
    "def getData(mode):\n",
    "    if mode == 'train':\n",
    "        img = pd.read_csv('tracknet_train_list_x_3.csv')\n",
    "        label = pd.read_csv('tracknet_train_list_y_3.csv')\n",
    "        return np.squeeze(img.values), np.squeeze(label.values)\n",
    "    else:\n",
    "        img = pd.read_csv('tracknet_test_list_x_3.csv')\n",
    "        label = pd.read_csv('tracknet_test_list_y_3.csv')\n",
    "        return np.squeeze(img.values), np.squeeze(label.values)\n",
    "\n",
    "\n",
    "class TrackNetLoader(data.Dataset):\n",
    "    def __init__(self, root, mode):\n",
    "        self.root = root\n",
    "        self.img_name, self.label_name = getData(mode)\n",
    "        self.mode = mode\n",
    "        img = Image.open(self.img_name[0][0]).convert('LA')\n",
    "        w, h = img.size\n",
    "        self.ratio = h / HEIGHT\n",
    "        print(\"> Found %d data...\" % (len(self.img_name)))\n",
    "\n",
    "    def __len__(self):\n",
    "        \"\"\"'return the size of dataset\"\"\"\n",
    "        return len(self.img_name)\n",
    "\n",
    "    def __getitem__(self, index):\n",
    "        img_path = self.img_name[index]\n",
    "        label_path = self.label_name[index]\n",
    "        img_all = []\n",
    "        label_all = []\n",
    "        for i in range(3):\n",
    "            x = Image.open(img_path[i]).convert('RGB')\n",
    "            x = x.resize((WIDTH, HEIGHT))\n",
    "            \n",
    "            x = np.asarray(x).transpose(2, 0, 1) / 255.0\n",
    "            #x = x.resize((WIDTH, HEIGHT, 3))\n",
    "\n",
    "            img_all.append(x[0])\n",
    "            img_all.append(x[1])\n",
    "            img_all.append(x[2])\n",
    "\n",
    "            y = Image.open(label_path[i])\n",
    "            y = np.asarray(y) / 255.0\n",
    "            label_all.append(y)\n",
    "\n",
    "        img_all = np.asarray(img_all)\n",
    "        label_all = np.asarray(label_all)\n",
    "        '''\n",
    "        if self.mode == 'train':\n",
    "          if random.random() < 0.5:\n",
    "            img = img.transpose(Image.FLIP_LEFT_RIGHT)\n",
    "        '''\n",
    "        return img_all, label_all"
   ]
  },
  {
   "cell_type": "code",
   "execution_count": 38,
   "id": "1131b285",
   "metadata": {},
   "outputs": [
    {
     "name": "stdout",
     "output_type": "stream",
     "text": [
      "> Found 3273 data...\n"
     ]
    }
   ],
   "source": [
    "train_loader = TrackNetLoader('','train')"
   ]
  },
  {
   "cell_type": "code",
   "execution_count": 39,
   "id": "870de37a",
   "metadata": {},
   "outputs": [],
   "source": [
    "img_all, label_all = train_loader[50]"
   ]
  },
  {
   "cell_type": "code",
   "execution_count": 40,
   "id": "7ff17497",
   "metadata": {},
   "outputs": [
    {
     "name": "stdout",
     "output_type": "stream",
     "text": [
      "(9, 288, 512)\n",
      "(3, 288, 512)\n"
     ]
    }
   ],
   "source": [
    "print(np.array(img_all).shape)\n",
    "print(np.array(label_all).shape)"
   ]
  },
  {
   "cell_type": "code",
   "execution_count": 41,
   "id": "bd75a9f2",
   "metadata": {},
   "outputs": [],
   "source": [
    "pil_image=Image.fromarray(np.array(label_all[2]))\n",
    "pil_image.show()"
   ]
  },
  {
   "cell_type": "code",
   "execution_count": 42,
   "id": "b25d7bff",
   "metadata": {
    "scrolled": true
   },
   "outputs": [],
   "source": [
    "def outcome(y_pred, y_true, tol):\n",
    "    n = y_pred.shape[0]\n",
    "    i = 0\n",
    "    TP = TN = FP1 = FP2 = FN = 0\n",
    "    while i < n:\n",
    "        for j in range(1):\n",
    "            if torch.max(y_pred[i][j]) == 0 and torch.max(y_true[i][j]) == 0:\n",
    "                TN += 1\n",
    "            elif torch.max(y_pred[i][j]) > 0 and torch.max(y_true[i][j]) == 0:\n",
    "                FP2 += 1\n",
    "            elif torch.max(y_pred[i][j]) == 0 and torch.max(y_true[i][j]) > 0:\n",
    "                FN += 1\n",
    "            elif torch.max(y_pred[i][j]) > 0 and torch.max(y_true[i][j]) > 0:\n",
    "                h_pred = (y_pred[i][j] * 255).cpu().numpy()\n",
    "                h_true = (y_true[i][j] * 255).cpu().numpy()\n",
    "                h_pred = h_pred.astype('uint8')\n",
    "                h_true = h_true.astype('uint8')\n",
    "\n",
    "\n",
    "                #debug_img = cv2.hconcat([h_pred, h_true])\n",
    "\n",
    "                #h_pred\n",
    "                (cnts, _) = cv2.findContours(h_pred.copy(), cv2.RETR_EXTERNAL, cv2.CHAIN_APPROX_SIMPLE)\n",
    "                rects = [cv2.boundingRect(ctr) for ctr in cnts]\n",
    "                max_area_idx = 0\n",
    "                max_area = rects[max_area_idx][2] * rects[max_area_idx][3]\n",
    "                for j in range(len(rects)):\n",
    "                    area = rects[j][2] * rects[j][3]\n",
    "                    if area > max_area:\n",
    "                        max_area_idx = j\n",
    "                        max_area = area\n",
    "                target = rects[max_area_idx]\n",
    "                (cx_pred, cy_pred) = (int(target[0] + target[2] / 2), int(target[1] + target[3] / 2))\n",
    "\n",
    "                #h_true\n",
    "                (cnts, _) = cv2.findContours(h_true.copy(), cv2.RETR_EXTERNAL, cv2.CHAIN_APPROX_SIMPLE)\n",
    "                rects = [cv2.boundingRect(ctr) for ctr in cnts]\n",
    "                max_area_idx = 0\n",
    "                max_area = rects[max_area_idx][2] * rects[max_area_idx][3]\n",
    "                for j in range(len(rects)):\n",
    "                    area = rects[j][2] * rects[j][3]\n",
    "                    if area > max_area:\n",
    "                        max_area_idx = j\n",
    "                        max_area = area\n",
    "                target = rects[max_area_idx]\n",
    "                (cx_true, cy_true) = (int(target[0] + target[2] / 2), int(target[1] + target[3] / 2))\n",
    "                dist = math.sqrt(pow(cx_pred-cx_true, 2)+pow(cy_pred-cy_true, 2))\n",
    "                if dist > tol:\n",
    "                    FP1 += 1\n",
    "                else:\n",
    "                    TP += 1\n",
    "        i += 1\n",
    "    return (TP, TN, FP1, FP2, FN)\n",
    "\n",
    "def evaluation(TP, TN, FP1, FP2, FN):\n",
    "    try:\n",
    "        accuracy = (TP + TN) / (TP + TN + FP1 + FP2 + FN)\n",
    "    except:\n",
    "        accuracy = 0\n",
    "    try:\n",
    "        precision = TP / (TP + FP1 + FP2)\n",
    "    except:\n",
    "        precision = 0\n",
    "    try:\n",
    "        recall = TP / (TP + FN)\n",
    "    except:\n",
    "        recall = 0\n",
    "    return (accuracy, precision, recall)\n",
    "\n",
    "def WBCE(y_pred, y_true):\n",
    "    eps = 1e-7\n",
    "    loss = (-1)*(torch.square(1 - y_pred) * y_true * torch.log(torch.clamp(y_pred, eps, 1)) + torch.square(y_pred) * (1 - y_true) * torch.log(torch.clamp(1 - y_pred, eps, 1)))\n",
    "    return torch.mean(loss)\n",
    "\n",
    "def train(epoch):\n",
    "    model.train()\n",
    "    train_loss = 0\n",
    "    TP = TN = FP1 = FP2 = FN = 0\n",
    "    for batch_idx, (data, label) in enumerate(train_loader):\n",
    "        data = data.type(torch.FloatTensor).to(device)\n",
    "        label = label.type(torch.FloatTensor).to(device)\n",
    "        optimizer.zero_grad()\n",
    "        y_pred = model(data)\n",
    "        loss = WBCE(y_pred, label)\n",
    "\n",
    "        #print('Train Epoch\" {} [{}/{} ({:.0f}%)] \\t Loss : {:.8f}'.format(epoch, (batch_idx+1) * len(data), len(train_loader.dataset),100.0 * (batch_idx+1) / len(train_loader), float(loss.data.cpu().numpy())))\n",
    "\n",
    "        print('Train Epoch\" {} [{}/{} ({:.0f}%)]'.format(epoch, (batch_idx+1) * len(data), len(train_loader.dataset),100.0 * (batch_idx+1) / len(train_loader))+'\\tLoss :',format(float(loss.data.cpu().numpy()),'.1E'))\n",
    "\n",
    "\n",
    "        #print('Train Epoch\" {} [{}/{} ({:.0f}%)]\\t'.format(epoch, (batch_idx+1) * len(data), len(train_loader.dataset),100.0 * (batch_idx+1) / len(train_loader)),\"Loss :\",float(loss.data.cpu().numpy())  )\n",
    "\n",
    "        train_loss += loss.data\n",
    "        #loss.backward()\n",
    "        #optimizer.step()\n",
    "        if(epoch % 1 == 0):\n",
    "            y_pred = y_pred > 0.5\n",
    "            (tp, tn, fp1, fp2, fn) = outcome(y_pred, label, tol)\n",
    "            TP += tp\n",
    "            TN += tn\n",
    "            FP1 += fp1\n",
    "            FP2 += fp2\n",
    "            FN += fn\n",
    "\n",
    "            #show(train_loss, epoch)\n",
    "    train_loss /= len(train_loader)\n",
    "    if(epoch % 1 == 0):\n",
    "        display(TP, TN, FP1, FP2, FN)\n",
    "        savefilename = save_weight + '_{}.tar'.format(epoch)\n",
    "        torch.save({'epoch':epoch,'state_dict':model.state_dict(),},savefilename)\n",
    "    return train_loss\n",
    "\n",
    "\n",
    "def display(TP, TN, FP1, FP2, FN):\n",
    "    print('======================Evaluate=======================')\n",
    "    print(\"Number of true positive:\", TP)\n",
    "    print(\"Number of true negative:\", TN)\n",
    "    print(\"Number of false positive FP1:\", FP1)\n",
    "    print(\"Number of false positive FP2:\", FP2)\n",
    "    print(\"Number of false negative:\", FN)\n",
    "    (accuracy, precision, recall) = evaluation(TP, TN, FP1, FP2, FN)\n",
    "    print(\"Accuracy:\", accuracy)\n",
    "    print(\"Precision:\", precision)\n",
    "    print(\"Recall:\", recall)\n",
    "    print('=====================================================')\n",
    "\n",
    "\n",
    "\n",
    "def show(train_loss):\n",
    "    epoch_num = np.arange(1, epochs + 1, 1)\n",
    "    plt.cla()\n",
    "    plt.grid(True)\n",
    "    plt.figure(figsize=(10, 8))\n",
    "    plt.xlabel(\"Epoch\")\n",
    "    plt.ylabel(\"Loss\")\n",
    "    plt.title('Loss of TrackNet3')\n",
    "    train_loss_plt = plt.plot(epoch_num, train_loss, marker=\".\")\n",
    "    plt.savefig('Loss_of_{}.jpg'.format(epoch))\n",
    "    print('train loss : ' , train_loss)"
   ]
  },
  {
   "cell_type": "code",
   "execution_count": 43,
   "id": "fe3945a1",
   "metadata": {
    "scrolled": true
   },
   "outputs": [
    {
     "name": "stdout",
     "output_type": "stream",
     "text": [
      "GPU Use :  True\n",
      "> Found 3273 data...\n"
     ]
    },
    {
     "data": {
      "text/plain": [
       "EfficientNet(\n",
       "  (upsample): Upsample(scale_factor=1.3392857142857142, mode=bilinear)\n",
       "  (upsample2): Sequential(\n",
       "    (0): Upsample(scale_factor=2.0, mode=bilinear)\n",
       "    (1): Conv2d(1536, 134, kernel_size=(1, 1), stride=(1, 1), bias=False)\n",
       "    (2): BatchNorm2d(134, eps=0.001, momentum=0.99, affine=True, track_running_stats=True)\n",
       "    (3): Swish(\n",
       "      (sigmoid): Sigmoid()\n",
       "    )\n",
       "    (4): Conv2d(134, 134, kernel_size=(3, 3), stride=(1, 1), padding=same, bias=False)\n",
       "    (5): BatchNorm2d(134, eps=0.001, momentum=0.99, affine=True, track_running_stats=True)\n",
       "    (6): Swish(\n",
       "      (sigmoid): Sigmoid()\n",
       "    )\n",
       "  )\n",
       "  (upsample3): Sequential(\n",
       "    (0): Upsample(scale_factor=2.0, mode=bilinear)\n",
       "    (1): Conv2d(134, 48, kernel_size=(1, 1), stride=(1, 1), bias=False)\n",
       "    (2): BatchNorm2d(48, eps=0.001, momentum=0.99, affine=True, track_running_stats=True)\n",
       "    (3): Swish(\n",
       "      (sigmoid): Sigmoid()\n",
       "    )\n",
       "    (4): Conv2d(48, 48, kernel_size=(3, 3), stride=(1, 1), padding=same, bias=False)\n",
       "    (5): BatchNorm2d(48, eps=0.001, momentum=0.99, affine=True, track_running_stats=True)\n",
       "    (6): Swish(\n",
       "      (sigmoid): Sigmoid()\n",
       "    )\n",
       "    (7): Conv2d(48, 48, kernel_size=(3, 3), stride=(1, 1), padding=same, bias=False)\n",
       "    (8): BatchNorm2d(48, eps=0.001, momentum=0.99, affine=True, track_running_stats=True)\n",
       "    (9): Swish(\n",
       "      (sigmoid): Sigmoid()\n",
       "    )\n",
       "  )\n",
       "  (upsample4): Sequential(\n",
       "    (0): Upsample(scale_factor=2.0, mode=bilinear)\n",
       "    (1): Conv2d(48, 28, kernel_size=(1, 1), stride=(1, 1), bias=False)\n",
       "    (2): BatchNorm2d(28, eps=0.001, momentum=0.99, affine=True, track_running_stats=True)\n",
       "    (3): Swish(\n",
       "      (sigmoid): Sigmoid()\n",
       "    )\n",
       "    (4): Conv2d(28, 28, kernel_size=(3, 3), stride=(1, 1), padding=same, bias=False)\n",
       "    (5): BatchNorm2d(28, eps=0.001, momentum=0.99, affine=True, track_running_stats=True)\n",
       "    (6): Swish(\n",
       "      (sigmoid): Sigmoid()\n",
       "    )\n",
       "    (7): Conv2d(28, 28, kernel_size=(3, 3), stride=(1, 1), padding=same, bias=False)\n",
       "    (8): BatchNorm2d(28, eps=0.001, momentum=0.99, affine=True, track_running_stats=True)\n",
       "    (9): Swish(\n",
       "      (sigmoid): Sigmoid()\n",
       "    )\n",
       "  )\n",
       "  (upsample5): Sequential(\n",
       "    (0): Upsample(scale_factor=2.0, mode=bilinear)\n",
       "    (1): Conv2d(28, 19, kernel_size=(1, 1), stride=(1, 1), bias=False)\n",
       "    (2): BatchNorm2d(19, eps=0.001, momentum=0.99, affine=True, track_running_stats=True)\n",
       "    (3): Swish(\n",
       "      (sigmoid): Sigmoid()\n",
       "    )\n",
       "    (4): Conv2d(19, 19, kernel_size=(3, 3), stride=(1, 1), padding=same, bias=False)\n",
       "    (5): BatchNorm2d(19, eps=0.001, momentum=0.99, affine=True, track_running_stats=True)\n",
       "    (6): Swish(\n",
       "      (sigmoid): Sigmoid()\n",
       "    )\n",
       "    (7): Conv2d(19, 19, kernel_size=(3, 3), stride=(1, 1), padding=same, bias=False)\n",
       "    (8): BatchNorm2d(19, eps=0.001, momentum=0.99, affine=True, track_running_stats=True)\n",
       "    (9): Swish(\n",
       "      (sigmoid): Sigmoid()\n",
       "    )\n",
       "  )\n",
       "  (upsample6): Sequential(\n",
       "    (0): Upsample(scale_factor=2.0, mode=bilinear)\n",
       "    (1): Conv2d(19, 64, kernel_size=(1, 1), stride=(1, 1), bias=False)\n",
       "    (2): BatchNorm2d(64, eps=0.001, momentum=0.99, affine=True, track_running_stats=True)\n",
       "    (3): Swish(\n",
       "      (sigmoid): Sigmoid()\n",
       "    )\n",
       "    (4): Conv2d(64, 64, kernel_size=(3, 3), stride=(1, 1), padding=same, bias=False)\n",
       "    (5): BatchNorm2d(64, eps=0.001, momentum=0.99, affine=True, track_running_stats=True)\n",
       "    (6): Swish(\n",
       "      (sigmoid): Sigmoid()\n",
       "    )\n",
       "    (7): Conv2d(64, 64, kernel_size=(3, 3), stride=(1, 1), padding=same, bias=False)\n",
       "    (8): BatchNorm2d(64, eps=0.001, momentum=0.99, affine=True, track_running_stats=True)\n",
       "    (9): Swish(\n",
       "      (sigmoid): Sigmoid()\n",
       "    )\n",
       "    (10): Conv2d(64, 64, kernel_size=(3, 3), stride=(1, 1), padding=same, bias=False)\n",
       "    (11): BatchNorm2d(64, eps=0.001, momentum=0.99, affine=True, track_running_stats=True)\n",
       "    (12): Swish(\n",
       "      (sigmoid): Sigmoid()\n",
       "    )\n",
       "    (13): Conv2d(64, 3, kernel_size=(1, 1), stride=(1, 1), bias=False)\n",
       "    (14): Conv2d(3, 1, kernel_size=(1, 1), stride=(1, 1), bias=False)\n",
       "  )\n",
       "  (stage1): Sequential(\n",
       "    (0): Conv2d(9, 38, kernel_size=(3, 3), stride=(2, 2), padding=(1, 1), bias=False)\n",
       "    (1): BatchNorm2d(38, eps=0.001, momentum=0.99, affine=True, track_running_stats=True)\n",
       "  )\n",
       "  (stage2): Sequential(\n",
       "    (0): SepConv(\n",
       "      (residual): Sequential(\n",
       "        (0): Conv2d(38, 38, kernel_size=(3, 3), stride=(1, 1), padding=(1, 1), groups=38, bias=False)\n",
       "        (1): BatchNorm2d(38, eps=0.001, momentum=0.99, affine=True, track_running_stats=True)\n",
       "        (2): Swish(\n",
       "          (sigmoid): Sigmoid()\n",
       "        )\n",
       "      )\n",
       "      (se): SEBlock(\n",
       "        (squeeze): AdaptiveAvgPool2d(output_size=(1, 1))\n",
       "        (excitation): Sequential(\n",
       "          (0): Linear(in_features=38, out_features=152, bias=True)\n",
       "          (1): Swish(\n",
       "            (sigmoid): Sigmoid()\n",
       "          )\n",
       "          (2): Linear(in_features=152, out_features=38, bias=True)\n",
       "          (3): Sigmoid()\n",
       "        )\n",
       "      )\n",
       "      (project): Sequential(\n",
       "        (0): Conv2d(38, 19, kernel_size=(1, 1), stride=(1, 1), bias=False)\n",
       "        (1): BatchNorm2d(19, eps=0.001, momentum=0.99, affine=True, track_running_stats=True)\n",
       "      )\n",
       "    )\n",
       "  )\n",
       "  (stage3): Sequential(\n",
       "    (0): MBConv(\n",
       "      (residual): Sequential(\n",
       "        (0): Conv2d(19, 114, kernel_size=(1, 1), stride=(2, 2), bias=False)\n",
       "        (1): BatchNorm2d(114, eps=0.001, momentum=0.99, affine=True, track_running_stats=True)\n",
       "        (2): Swish(\n",
       "          (sigmoid): Sigmoid()\n",
       "        )\n",
       "        (3): Conv2d(114, 114, kernel_size=(3, 3), stride=(1, 1), padding=(1, 1), groups=114, bias=False)\n",
       "        (4): BatchNorm2d(114, eps=0.001, momentum=0.99, affine=True, track_running_stats=True)\n",
       "        (5): Swish(\n",
       "          (sigmoid): Sigmoid()\n",
       "        )\n",
       "      )\n",
       "      (se): SEBlock(\n",
       "        (squeeze): AdaptiveAvgPool2d(output_size=(1, 1))\n",
       "        (excitation): Sequential(\n",
       "          (0): Linear(in_features=114, out_features=456, bias=True)\n",
       "          (1): Swish(\n",
       "            (sigmoid): Sigmoid()\n",
       "          )\n",
       "          (2): Linear(in_features=456, out_features=114, bias=True)\n",
       "          (3): Sigmoid()\n",
       "        )\n",
       "      )\n",
       "      (project): Sequential(\n",
       "        (0): Conv2d(114, 28, kernel_size=(1, 1), stride=(1, 1), bias=False)\n",
       "        (1): BatchNorm2d(28, eps=0.001, momentum=0.99, affine=True, track_running_stats=True)\n",
       "      )\n",
       "    )\n",
       "    (1): MBConv(\n",
       "      (residual): Sequential(\n",
       "        (0): Conv2d(28, 168, kernel_size=(1, 1), stride=(1, 1), bias=False)\n",
       "        (1): BatchNorm2d(168, eps=0.001, momentum=0.99, affine=True, track_running_stats=True)\n",
       "        (2): Swish(\n",
       "          (sigmoid): Sigmoid()\n",
       "        )\n",
       "        (3): Conv2d(168, 168, kernel_size=(3, 3), stride=(1, 1), padding=(1, 1), groups=168, bias=False)\n",
       "        (4): BatchNorm2d(168, eps=0.001, momentum=0.99, affine=True, track_running_stats=True)\n",
       "        (5): Swish(\n",
       "          (sigmoid): Sigmoid()\n",
       "        )\n",
       "      )\n",
       "      (se): SEBlock(\n",
       "        (squeeze): AdaptiveAvgPool2d(output_size=(1, 1))\n",
       "        (excitation): Sequential(\n",
       "          (0): Linear(in_features=168, out_features=672, bias=True)\n",
       "          (1): Swish(\n",
       "            (sigmoid): Sigmoid()\n",
       "          )\n",
       "          (2): Linear(in_features=672, out_features=168, bias=True)\n",
       "          (3): Sigmoid()\n",
       "        )\n",
       "      )\n",
       "      (project): Sequential(\n",
       "        (0): Conv2d(168, 28, kernel_size=(1, 1), stride=(1, 1), bias=False)\n",
       "        (1): BatchNorm2d(28, eps=0.001, momentum=0.99, affine=True, track_running_stats=True)\n",
       "      )\n",
       "    )\n",
       "  )\n",
       "  (stage4): Sequential(\n",
       "    (0): MBConv(\n",
       "      (residual): Sequential(\n",
       "        (0): Conv2d(28, 168, kernel_size=(1, 1), stride=(2, 2), bias=False)\n",
       "        (1): BatchNorm2d(168, eps=0.001, momentum=0.99, affine=True, track_running_stats=True)\n",
       "        (2): Swish(\n",
       "          (sigmoid): Sigmoid()\n",
       "        )\n",
       "        (3): Conv2d(168, 168, kernel_size=(5, 5), stride=(1, 1), padding=(2, 2), groups=168, bias=False)\n",
       "        (4): BatchNorm2d(168, eps=0.001, momentum=0.99, affine=True, track_running_stats=True)\n",
       "        (5): Swish(\n",
       "          (sigmoid): Sigmoid()\n",
       "        )\n",
       "      )\n",
       "      (se): SEBlock(\n",
       "        (squeeze): AdaptiveAvgPool2d(output_size=(1, 1))\n",
       "        (excitation): Sequential(\n",
       "          (0): Linear(in_features=168, out_features=672, bias=True)\n",
       "          (1): Swish(\n",
       "            (sigmoid): Sigmoid()\n",
       "          )\n",
       "          (2): Linear(in_features=672, out_features=168, bias=True)\n",
       "          (3): Sigmoid()\n",
       "        )\n",
       "      )\n",
       "      (project): Sequential(\n",
       "        (0): Conv2d(168, 48, kernel_size=(1, 1), stride=(1, 1), bias=False)\n",
       "        (1): BatchNorm2d(48, eps=0.001, momentum=0.99, affine=True, track_running_stats=True)\n",
       "      )\n",
       "    )\n",
       "    (1): MBConv(\n",
       "      (residual): Sequential(\n",
       "        (0): Conv2d(48, 288, kernel_size=(1, 1), stride=(1, 1), bias=False)\n",
       "        (1): BatchNorm2d(288, eps=0.001, momentum=0.99, affine=True, track_running_stats=True)\n",
       "        (2): Swish(\n",
       "          (sigmoid): Sigmoid()\n",
       "        )\n",
       "        (3): Conv2d(288, 288, kernel_size=(5, 5), stride=(1, 1), padding=(2, 2), groups=288, bias=False)\n",
       "        (4): BatchNorm2d(288, eps=0.001, momentum=0.99, affine=True, track_running_stats=True)\n",
       "        (5): Swish(\n",
       "          (sigmoid): Sigmoid()\n",
       "        )\n",
       "      )\n",
       "      (se): SEBlock(\n",
       "        (squeeze): AdaptiveAvgPool2d(output_size=(1, 1))\n",
       "        (excitation): Sequential(\n",
       "          (0): Linear(in_features=288, out_features=1152, bias=True)\n",
       "          (1): Swish(\n",
       "            (sigmoid): Sigmoid()\n",
       "          )\n",
       "          (2): Linear(in_features=1152, out_features=288, bias=True)\n",
       "          (3): Sigmoid()\n",
       "        )\n",
       "      )\n",
       "      (project): Sequential(\n",
       "        (0): Conv2d(288, 48, kernel_size=(1, 1), stride=(1, 1), bias=False)\n",
       "        (1): BatchNorm2d(48, eps=0.001, momentum=0.99, affine=True, track_running_stats=True)\n",
       "      )\n",
       "    )\n",
       "  )\n",
       "  (stage5): Sequential(\n",
       "    (0): MBConv(\n",
       "      (residual): Sequential(\n",
       "        (0): Conv2d(48, 288, kernel_size=(1, 1), stride=(2, 2), bias=False)\n",
       "        (1): BatchNorm2d(288, eps=0.001, momentum=0.99, affine=True, track_running_stats=True)\n",
       "        (2): Swish(\n",
       "          (sigmoid): Sigmoid()\n",
       "        )\n",
       "        (3): Conv2d(288, 288, kernel_size=(3, 3), stride=(1, 1), padding=(1, 1), groups=288, bias=False)\n",
       "        (4): BatchNorm2d(288, eps=0.001, momentum=0.99, affine=True, track_running_stats=True)\n",
       "        (5): Swish(\n",
       "          (sigmoid): Sigmoid()\n",
       "        )\n",
       "      )\n",
       "      (se): SEBlock(\n",
       "        (squeeze): AdaptiveAvgPool2d(output_size=(1, 1))\n",
       "        (excitation): Sequential(\n",
       "          (0): Linear(in_features=288, out_features=1152, bias=True)\n",
       "          (1): Swish(\n",
       "            (sigmoid): Sigmoid()\n",
       "          )\n",
       "          (2): Linear(in_features=1152, out_features=288, bias=True)\n",
       "          (3): Sigmoid()\n",
       "        )\n",
       "      )\n",
       "      (project): Sequential(\n",
       "        (0): Conv2d(288, 96, kernel_size=(1, 1), stride=(1, 1), bias=False)\n",
       "        (1): BatchNorm2d(96, eps=0.001, momentum=0.99, affine=True, track_running_stats=True)\n",
       "      )\n",
       "    )\n",
       "    (1): MBConv(\n",
       "      (residual): Sequential(\n",
       "        (0): Conv2d(96, 576, kernel_size=(1, 1), stride=(1, 1), bias=False)\n",
       "        (1): BatchNorm2d(576, eps=0.001, momentum=0.99, affine=True, track_running_stats=True)\n",
       "        (2): Swish(\n",
       "          (sigmoid): Sigmoid()\n",
       "        )\n",
       "        (3): Conv2d(576, 576, kernel_size=(3, 3), stride=(1, 1), padding=(1, 1), groups=576, bias=False)\n",
       "        (4): BatchNorm2d(576, eps=0.001, momentum=0.99, affine=True, track_running_stats=True)\n",
       "        (5): Swish(\n",
       "          (sigmoid): Sigmoid()\n",
       "        )\n",
       "      )\n",
       "      (se): SEBlock(\n",
       "        (squeeze): AdaptiveAvgPool2d(output_size=(1, 1))\n",
       "        (excitation): Sequential(\n",
       "          (0): Linear(in_features=576, out_features=2304, bias=True)\n",
       "          (1): Swish(\n",
       "            (sigmoid): Sigmoid()\n",
       "          )\n",
       "          (2): Linear(in_features=2304, out_features=576, bias=True)\n",
       "          (3): Sigmoid()\n",
       "        )\n",
       "      )\n",
       "      (project): Sequential(\n",
       "        (0): Conv2d(576, 96, kernel_size=(1, 1), stride=(1, 1), bias=False)\n",
       "        (1): BatchNorm2d(96, eps=0.001, momentum=0.99, affine=True, track_running_stats=True)\n",
       "      )\n",
       "    )\n",
       "    (2): MBConv(\n",
       "      (residual): Sequential(\n",
       "        (0): Conv2d(96, 576, kernel_size=(1, 1), stride=(1, 1), bias=False)\n",
       "        (1): BatchNorm2d(576, eps=0.001, momentum=0.99, affine=True, track_running_stats=True)\n",
       "        (2): Swish(\n",
       "          (sigmoid): Sigmoid()\n",
       "        )\n",
       "        (3): Conv2d(576, 576, kernel_size=(3, 3), stride=(1, 1), padding=(1, 1), groups=576, bias=False)\n",
       "        (4): BatchNorm2d(576, eps=0.001, momentum=0.99, affine=True, track_running_stats=True)\n",
       "        (5): Swish(\n",
       "          (sigmoid): Sigmoid()\n",
       "        )\n",
       "      )\n",
       "      (se): SEBlock(\n",
       "        (squeeze): AdaptiveAvgPool2d(output_size=(1, 1))\n",
       "        (excitation): Sequential(\n",
       "          (0): Linear(in_features=576, out_features=2304, bias=True)\n",
       "          (1): Swish(\n",
       "            (sigmoid): Sigmoid()\n",
       "          )\n",
       "          (2): Linear(in_features=2304, out_features=576, bias=True)\n",
       "          (3): Sigmoid()\n",
       "        )\n",
       "      )\n",
       "      (project): Sequential(\n",
       "        (0): Conv2d(576, 96, kernel_size=(1, 1), stride=(1, 1), bias=False)\n",
       "        (1): BatchNorm2d(96, eps=0.001, momentum=0.99, affine=True, track_running_stats=True)\n",
       "      )\n",
       "    )\n",
       "    (3): MBConv(\n",
       "      (residual): Sequential(\n",
       "        (0): Conv2d(96, 576, kernel_size=(1, 1), stride=(1, 1), bias=False)\n",
       "        (1): BatchNorm2d(576, eps=0.001, momentum=0.99, affine=True, track_running_stats=True)\n",
       "        (2): Swish(\n",
       "          (sigmoid): Sigmoid()\n",
       "        )\n",
       "        (3): Conv2d(576, 576, kernel_size=(3, 3), stride=(1, 1), padding=(1, 1), groups=576, bias=False)\n",
       "        (4): BatchNorm2d(576, eps=0.001, momentum=0.99, affine=True, track_running_stats=True)\n",
       "        (5): Swish(\n",
       "          (sigmoid): Sigmoid()\n",
       "        )\n",
       "      )\n",
       "      (se): SEBlock(\n",
       "        (squeeze): AdaptiveAvgPool2d(output_size=(1, 1))\n",
       "        (excitation): Sequential(\n",
       "          (0): Linear(in_features=576, out_features=2304, bias=True)\n",
       "          (1): Swish(\n",
       "            (sigmoid): Sigmoid()\n",
       "          )\n",
       "          (2): Linear(in_features=2304, out_features=576, bias=True)\n",
       "          (3): Sigmoid()\n",
       "        )\n",
       "      )\n",
       "      (project): Sequential(\n",
       "        (0): Conv2d(576, 96, kernel_size=(1, 1), stride=(1, 1), bias=False)\n",
       "        (1): BatchNorm2d(96, eps=0.001, momentum=0.99, affine=True, track_running_stats=True)\n",
       "      )\n",
       "    )\n",
       "  )\n",
       "  (stage6): Sequential(\n",
       "    (0): MBConv(\n",
       "      (residual): Sequential(\n",
       "        (0): Conv2d(96, 576, kernel_size=(1, 1), stride=(1, 1), bias=False)\n",
       "        (1): BatchNorm2d(576, eps=0.001, momentum=0.99, affine=True, track_running_stats=True)\n",
       "        (2): Swish(\n",
       "          (sigmoid): Sigmoid()\n",
       "        )\n",
       "        (3): Conv2d(576, 576, kernel_size=(5, 5), stride=(1, 1), padding=(2, 2), groups=576, bias=False)\n",
       "        (4): BatchNorm2d(576, eps=0.001, momentum=0.99, affine=True, track_running_stats=True)\n",
       "        (5): Swish(\n",
       "          (sigmoid): Sigmoid()\n",
       "        )\n",
       "      )\n",
       "      (se): SEBlock(\n",
       "        (squeeze): AdaptiveAvgPool2d(output_size=(1, 1))\n",
       "        (excitation): Sequential(\n",
       "          (0): Linear(in_features=576, out_features=2304, bias=True)\n",
       "          (1): Swish(\n",
       "            (sigmoid): Sigmoid()\n",
       "          )\n",
       "          (2): Linear(in_features=2304, out_features=576, bias=True)\n",
       "          (3): Sigmoid()\n",
       "        )\n",
       "      )\n",
       "      (project): Sequential(\n",
       "        (0): Conv2d(576, 134, kernel_size=(1, 1), stride=(1, 1), bias=False)\n",
       "        (1): BatchNorm2d(134, eps=0.001, momentum=0.99, affine=True, track_running_stats=True)\n",
       "      )\n",
       "    )\n",
       "    (1): MBConv(\n",
       "      (residual): Sequential(\n",
       "        (0): Conv2d(134, 804, kernel_size=(1, 1), stride=(1, 1), bias=False)\n",
       "        (1): BatchNorm2d(804, eps=0.001, momentum=0.99, affine=True, track_running_stats=True)\n",
       "        (2): Swish(\n",
       "          (sigmoid): Sigmoid()\n",
       "        )\n",
       "        (3): Conv2d(804, 804, kernel_size=(5, 5), stride=(1, 1), padding=(2, 2), groups=804, bias=False)\n",
       "        (4): BatchNorm2d(804, eps=0.001, momentum=0.99, affine=True, track_running_stats=True)\n",
       "        (5): Swish(\n",
       "          (sigmoid): Sigmoid()\n",
       "        )\n",
       "      )\n",
       "      (se): SEBlock(\n",
       "        (squeeze): AdaptiveAvgPool2d(output_size=(1, 1))\n",
       "        (excitation): Sequential(\n",
       "          (0): Linear(in_features=804, out_features=3216, bias=True)\n",
       "          (1): Swish(\n",
       "            (sigmoid): Sigmoid()\n",
       "          )\n",
       "          (2): Linear(in_features=3216, out_features=804, bias=True)\n",
       "          (3): Sigmoid()\n",
       "        )\n",
       "      )\n",
       "      (project): Sequential(\n",
       "        (0): Conv2d(804, 134, kernel_size=(1, 1), stride=(1, 1), bias=False)\n",
       "        (1): BatchNorm2d(134, eps=0.001, momentum=0.99, affine=True, track_running_stats=True)\n",
       "      )\n",
       "    )\n",
       "    (2): MBConv(\n",
       "      (residual): Sequential(\n",
       "        (0): Conv2d(134, 804, kernel_size=(1, 1), stride=(1, 1), bias=False)\n",
       "        (1): BatchNorm2d(804, eps=0.001, momentum=0.99, affine=True, track_running_stats=True)\n",
       "        (2): Swish(\n",
       "          (sigmoid): Sigmoid()\n",
       "        )\n",
       "        (3): Conv2d(804, 804, kernel_size=(5, 5), stride=(1, 1), padding=(2, 2), groups=804, bias=False)\n",
       "        (4): BatchNorm2d(804, eps=0.001, momentum=0.99, affine=True, track_running_stats=True)\n",
       "        (5): Swish(\n",
       "          (sigmoid): Sigmoid()\n",
       "        )\n",
       "      )\n",
       "      (se): SEBlock(\n",
       "        (squeeze): AdaptiveAvgPool2d(output_size=(1, 1))\n",
       "        (excitation): Sequential(\n",
       "          (0): Linear(in_features=804, out_features=3216, bias=True)\n",
       "          (1): Swish(\n",
       "            (sigmoid): Sigmoid()\n",
       "          )\n",
       "          (2): Linear(in_features=3216, out_features=804, bias=True)\n",
       "          (3): Sigmoid()\n",
       "        )\n",
       "      )\n",
       "      (project): Sequential(\n",
       "        (0): Conv2d(804, 134, kernel_size=(1, 1), stride=(1, 1), bias=False)\n",
       "        (1): BatchNorm2d(134, eps=0.001, momentum=0.99, affine=True, track_running_stats=True)\n",
       "      )\n",
       "    )\n",
       "    (3): MBConv(\n",
       "      (residual): Sequential(\n",
       "        (0): Conv2d(134, 804, kernel_size=(1, 1), stride=(1, 1), bias=False)\n",
       "        (1): BatchNorm2d(804, eps=0.001, momentum=0.99, affine=True, track_running_stats=True)\n",
       "        (2): Swish(\n",
       "          (sigmoid): Sigmoid()\n",
       "        )\n",
       "        (3): Conv2d(804, 804, kernel_size=(5, 5), stride=(1, 1), padding=(2, 2), groups=804, bias=False)\n",
       "        (4): BatchNorm2d(804, eps=0.001, momentum=0.99, affine=True, track_running_stats=True)\n",
       "        (5): Swish(\n",
       "          (sigmoid): Sigmoid()\n",
       "        )\n",
       "      )\n",
       "      (se): SEBlock(\n",
       "        (squeeze): AdaptiveAvgPool2d(output_size=(1, 1))\n",
       "        (excitation): Sequential(\n",
       "          (0): Linear(in_features=804, out_features=3216, bias=True)\n",
       "          (1): Swish(\n",
       "            (sigmoid): Sigmoid()\n",
       "          )\n",
       "          (2): Linear(in_features=3216, out_features=804, bias=True)\n",
       "          (3): Sigmoid()\n",
       "        )\n",
       "      )\n",
       "      (project): Sequential(\n",
       "        (0): Conv2d(804, 134, kernel_size=(1, 1), stride=(1, 1), bias=False)\n",
       "        (1): BatchNorm2d(134, eps=0.001, momentum=0.99, affine=True, track_running_stats=True)\n",
       "      )\n",
       "    )\n",
       "  )\n",
       "  (stage7): Sequential(\n",
       "    (0): MBConv(\n",
       "      (residual): Sequential(\n",
       "        (0): Conv2d(134, 804, kernel_size=(1, 1), stride=(2, 2), bias=False)\n",
       "        (1): BatchNorm2d(804, eps=0.001, momentum=0.99, affine=True, track_running_stats=True)\n",
       "        (2): Swish(\n",
       "          (sigmoid): Sigmoid()\n",
       "        )\n",
       "        (3): Conv2d(804, 804, kernel_size=(5, 5), stride=(1, 1), padding=(2, 2), groups=804, bias=False)\n",
       "        (4): BatchNorm2d(804, eps=0.001, momentum=0.99, affine=True, track_running_stats=True)\n",
       "        (5): Swish(\n",
       "          (sigmoid): Sigmoid()\n",
       "        )\n",
       "      )\n",
       "      (se): SEBlock(\n",
       "        (squeeze): AdaptiveAvgPool2d(output_size=(1, 1))\n",
       "        (excitation): Sequential(\n",
       "          (0): Linear(in_features=804, out_features=3216, bias=True)\n",
       "          (1): Swish(\n",
       "            (sigmoid): Sigmoid()\n",
       "          )\n",
       "          (2): Linear(in_features=3216, out_features=804, bias=True)\n",
       "          (3): Sigmoid()\n",
       "        )\n",
       "      )\n",
       "      (project): Sequential(\n",
       "        (0): Conv2d(804, 230, kernel_size=(1, 1), stride=(1, 1), bias=False)\n",
       "        (1): BatchNorm2d(230, eps=0.001, momentum=0.99, affine=True, track_running_stats=True)\n",
       "      )\n",
       "    )\n",
       "    (1): MBConv(\n",
       "      (residual): Sequential(\n",
       "        (0): Conv2d(230, 1380, kernel_size=(1, 1), stride=(1, 1), bias=False)\n",
       "        (1): BatchNorm2d(1380, eps=0.001, momentum=0.99, affine=True, track_running_stats=True)\n",
       "        (2): Swish(\n",
       "          (sigmoid): Sigmoid()\n",
       "        )\n",
       "        (3): Conv2d(1380, 1380, kernel_size=(5, 5), stride=(1, 1), padding=(2, 2), groups=1380, bias=False)\n",
       "        (4): BatchNorm2d(1380, eps=0.001, momentum=0.99, affine=True, track_running_stats=True)\n",
       "        (5): Swish(\n",
       "          (sigmoid): Sigmoid()\n",
       "        )\n",
       "      )\n",
       "      (se): SEBlock(\n",
       "        (squeeze): AdaptiveAvgPool2d(output_size=(1, 1))\n",
       "        (excitation): Sequential(\n",
       "          (0): Linear(in_features=1380, out_features=5520, bias=True)\n",
       "          (1): Swish(\n",
       "            (sigmoid): Sigmoid()\n",
       "          )\n",
       "          (2): Linear(in_features=5520, out_features=1380, bias=True)\n",
       "          (3): Sigmoid()\n",
       "        )\n",
       "      )\n",
       "      (project): Sequential(\n",
       "        (0): Conv2d(1380, 230, kernel_size=(1, 1), stride=(1, 1), bias=False)\n",
       "        (1): BatchNorm2d(230, eps=0.001, momentum=0.99, affine=True, track_running_stats=True)\n",
       "      )\n",
       "    )\n",
       "    (2): MBConv(\n",
       "      (residual): Sequential(\n",
       "        (0): Conv2d(230, 1380, kernel_size=(1, 1), stride=(1, 1), bias=False)\n",
       "        (1): BatchNorm2d(1380, eps=0.001, momentum=0.99, affine=True, track_running_stats=True)\n",
       "        (2): Swish(\n",
       "          (sigmoid): Sigmoid()\n",
       "        )\n",
       "        (3): Conv2d(1380, 1380, kernel_size=(5, 5), stride=(1, 1), padding=(2, 2), groups=1380, bias=False)\n",
       "        (4): BatchNorm2d(1380, eps=0.001, momentum=0.99, affine=True, track_running_stats=True)\n",
       "        (5): Swish(\n",
       "          (sigmoid): Sigmoid()\n",
       "        )\n",
       "      )\n",
       "      (se): SEBlock(\n",
       "        (squeeze): AdaptiveAvgPool2d(output_size=(1, 1))\n",
       "        (excitation): Sequential(\n",
       "          (0): Linear(in_features=1380, out_features=5520, bias=True)\n",
       "          (1): Swish(\n",
       "            (sigmoid): Sigmoid()\n",
       "          )\n",
       "          (2): Linear(in_features=5520, out_features=1380, bias=True)\n",
       "          (3): Sigmoid()\n",
       "        )\n",
       "      )\n",
       "      (project): Sequential(\n",
       "        (0): Conv2d(1380, 230, kernel_size=(1, 1), stride=(1, 1), bias=False)\n",
       "        (1): BatchNorm2d(230, eps=0.001, momentum=0.99, affine=True, track_running_stats=True)\n",
       "      )\n",
       "    )\n",
       "    (3): MBConv(\n",
       "      (residual): Sequential(\n",
       "        (0): Conv2d(230, 1380, kernel_size=(1, 1), stride=(1, 1), bias=False)\n",
       "        (1): BatchNorm2d(1380, eps=0.001, momentum=0.99, affine=True, track_running_stats=True)\n",
       "        (2): Swish(\n",
       "          (sigmoid): Sigmoid()\n",
       "        )\n",
       "        (3): Conv2d(1380, 1380, kernel_size=(5, 5), stride=(1, 1), padding=(2, 2), groups=1380, bias=False)\n",
       "        (4): BatchNorm2d(1380, eps=0.001, momentum=0.99, affine=True, track_running_stats=True)\n",
       "        (5): Swish(\n",
       "          (sigmoid): Sigmoid()\n",
       "        )\n",
       "      )\n",
       "      (se): SEBlock(\n",
       "        (squeeze): AdaptiveAvgPool2d(output_size=(1, 1))\n",
       "        (excitation): Sequential(\n",
       "          (0): Linear(in_features=1380, out_features=5520, bias=True)\n",
       "          (1): Swish(\n",
       "            (sigmoid): Sigmoid()\n",
       "          )\n",
       "          (2): Linear(in_features=5520, out_features=1380, bias=True)\n",
       "          (3): Sigmoid()\n",
       "        )\n",
       "      )\n",
       "      (project): Sequential(\n",
       "        (0): Conv2d(1380, 230, kernel_size=(1, 1), stride=(1, 1), bias=False)\n",
       "        (1): BatchNorm2d(230, eps=0.001, momentum=0.99, affine=True, track_running_stats=True)\n",
       "      )\n",
       "    )\n",
       "    (4): MBConv(\n",
       "      (residual): Sequential(\n",
       "        (0): Conv2d(230, 1380, kernel_size=(1, 1), stride=(1, 1), bias=False)\n",
       "        (1): BatchNorm2d(1380, eps=0.001, momentum=0.99, affine=True, track_running_stats=True)\n",
       "        (2): Swish(\n",
       "          (sigmoid): Sigmoid()\n",
       "        )\n",
       "        (3): Conv2d(1380, 1380, kernel_size=(5, 5), stride=(1, 1), padding=(2, 2), groups=1380, bias=False)\n",
       "        (4): BatchNorm2d(1380, eps=0.001, momentum=0.99, affine=True, track_running_stats=True)\n",
       "        (5): Swish(\n",
       "          (sigmoid): Sigmoid()\n",
       "        )\n",
       "      )\n",
       "      (se): SEBlock(\n",
       "        (squeeze): AdaptiveAvgPool2d(output_size=(1, 1))\n",
       "        (excitation): Sequential(\n",
       "          (0): Linear(in_features=1380, out_features=5520, bias=True)\n",
       "          (1): Swish(\n",
       "            (sigmoid): Sigmoid()\n",
       "          )\n",
       "          (2): Linear(in_features=5520, out_features=1380, bias=True)\n",
       "          (3): Sigmoid()\n",
       "        )\n",
       "      )\n",
       "      (project): Sequential(\n",
       "        (0): Conv2d(1380, 230, kernel_size=(1, 1), stride=(1, 1), bias=False)\n",
       "        (1): BatchNorm2d(230, eps=0.001, momentum=0.99, affine=True, track_running_stats=True)\n",
       "      )\n",
       "    )\n",
       "  )\n",
       "  (stage8): Sequential(\n",
       "    (0): MBConv(\n",
       "      (residual): Sequential(\n",
       "        (0): Conv2d(230, 1380, kernel_size=(1, 1), stride=(1, 1), bias=False)\n",
       "        (1): BatchNorm2d(1380, eps=0.001, momentum=0.99, affine=True, track_running_stats=True)\n",
       "        (2): Swish(\n",
       "          (sigmoid): Sigmoid()\n",
       "        )\n",
       "        (3): Conv2d(1380, 1380, kernel_size=(3, 3), stride=(1, 1), padding=(1, 1), groups=1380, bias=False)\n",
       "        (4): BatchNorm2d(1380, eps=0.001, momentum=0.99, affine=True, track_running_stats=True)\n",
       "        (5): Swish(\n",
       "          (sigmoid): Sigmoid()\n",
       "        )\n",
       "      )\n",
       "      (se): SEBlock(\n",
       "        (squeeze): AdaptiveAvgPool2d(output_size=(1, 1))\n",
       "        (excitation): Sequential(\n",
       "          (0): Linear(in_features=1380, out_features=5520, bias=True)\n",
       "          (1): Swish(\n",
       "            (sigmoid): Sigmoid()\n",
       "          )\n",
       "          (2): Linear(in_features=5520, out_features=1380, bias=True)\n",
       "          (3): Sigmoid()\n",
       "        )\n",
       "      )\n",
       "      (project): Sequential(\n",
       "        (0): Conv2d(1380, 384, kernel_size=(1, 1), stride=(1, 1), bias=False)\n",
       "        (1): BatchNorm2d(384, eps=0.001, momentum=0.99, affine=True, track_running_stats=True)\n",
       "      )\n",
       "    )\n",
       "  )\n",
       "  (stage9): Sequential(\n",
       "    (0): Conv2d(384, 1536, kernel_size=(1, 1), stride=(1, 1), bias=False)\n",
       "    (1): BatchNorm2d(1536, eps=0.001, momentum=0.99, affine=True, track_running_stats=True)\n",
       "    (2): Swish(\n",
       "      (sigmoid): Sigmoid()\n",
       "    )\n",
       "  )\n",
       "  (avgpool): AdaptiveAvgPool2d(output_size=(1, 1))\n",
       "  (dropout): Dropout(p=0.3, inplace=False)\n",
       "  (linear): Linear(in_features=1536, out_features=10, bias=True)\n",
       ")"
      ]
     },
     "execution_count": 43,
     "metadata": {},
     "output_type": "execute_result"
    }
   ],
   "source": [
    "# set train parameter\n",
    "\n",
    "batchsize = 1\n",
    "epochs = 30\n",
    "lr = 1.\n",
    "tol = 4\n",
    "optimizer = 'Adadelta'\n",
    "momentum = 0.9\n",
    "weight_decay = 5e-4\n",
    "seed = 1\n",
    "load_weight = False\n",
    "save_weight = 'custom'\n",
    "\n",
    "device = torch.device(\"cuda:0\" if torch.cuda.is_available() else \"cpu\")\n",
    "print('GPU Use : ',torch.cuda.is_available())\n",
    "train_data = TrackNetLoader('' , 'train')\n",
    "train_loader = DataLoader(dataset = train_data, batch_size=batchsize, shuffle=True)\n",
    "model = efficientnet_b3()\n",
    "model.to(device)\n",
    "\n",
    "\n"
   ]
  },
  {
   "cell_type": "code",
   "execution_count": null,
   "id": "8b117290",
   "metadata": {},
   "outputs": [],
   "source": [
    "if optimizer == 'Adadelta':\n",
    "    optimizer = torch.optim.Adadelta(model.parameters(), lr=lr, rho=0.9, eps=1e-06, weight_decay=0)\n",
    "    #optimizer = torch.optim.Adam(model.parameters(), lr = args.lr, weight_decay = args.weight_decay)\n",
    "else:\n",
    "    optimizer = torch.optim.SGD(model.parameters(), lr = lr, weight_decay = weight_decay, momentum = momentum)\n",
    "\n",
    "if(load_weight):\n",
    "    print('======================Retrain=======================')\n",
    "    checkpoint = torch.load(load_weight)\n",
    "    model.load_state_dict(checkpoint['state_dict'])\n",
    "    epoch = checkpoint['epoch']\n",
    "\n",
    "train_loss = []\n",
    "\n",
    "for epoch in range(1, epochs + 1):\n",
    "    loss = train(epoch)\n",
    "    train_loss.append(loss)\n",
    "\n",
    "show(train_loss)"
   ]
  },
  {
   "cell_type": "code",
   "execution_count": 37,
   "id": "28e83a46",
   "metadata": {},
   "outputs": [
    {
     "ename": "NameError",
     "evalue": "name 'train_data' is not defined",
     "output_type": "error",
     "traceback": [
      "\u001b[0;31m---------------------------------------------------------------------------\u001b[0m",
      "\u001b[0;31mNameError\u001b[0m                                 Traceback (most recent call last)",
      "\u001b[0;32m/tmp/ipykernel_7300/2141537534.py\u001b[0m in \u001b[0;36m<module>\u001b[0;34m\u001b[0m\n\u001b[1;32m      3\u001b[0m \u001b[0mtorch\u001b[0m\u001b[0;34m.\u001b[0m\u001b[0mcuda\u001b[0m\u001b[0;34m.\u001b[0m\u001b[0mempty_cache\u001b[0m\u001b[0;34m(\u001b[0m\u001b[0;34m)\u001b[0m\u001b[0;34m\u001b[0m\u001b[0;34m\u001b[0m\u001b[0m\n\u001b[1;32m      4\u001b[0m \u001b[0;34m\u001b[0m\u001b[0m\n\u001b[0;32m----> 5\u001b[0;31m \u001b[0;32mdel\u001b[0m \u001b[0mtrain_data\u001b[0m\u001b[0;34m\u001b[0m\u001b[0;34m\u001b[0m\u001b[0m\n\u001b[0m\u001b[1;32m      6\u001b[0m \u001b[0;32mdel\u001b[0m \u001b[0mtrain_loader\u001b[0m\u001b[0;34m\u001b[0m\u001b[0;34m\u001b[0m\u001b[0m\n\u001b[1;32m      7\u001b[0m \u001b[0;32mdel\u001b[0m \u001b[0mmodel\u001b[0m\u001b[0;34m\u001b[0m\u001b[0;34m\u001b[0m\u001b[0m\n",
      "\u001b[0;31mNameError\u001b[0m: name 'train_data' is not defined"
     ]
    }
   ],
   "source": [
    "import gc\n",
    "gc.collect()\n",
    "torch.cuda.empty_cache()\n",
    "\n",
    "del train_data\n",
    "del train_loader\n",
    "del model"
   ]
  },
  {
   "cell_type": "code",
   "execution_count": 44,
   "id": "1d447108",
   "metadata": {},
   "outputs": [
    {
     "data": {
      "text/plain": [
       "0"
      ]
     },
     "execution_count": 44,
     "metadata": {},
     "output_type": "execute_result"
    }
   ],
   "source": [
    "1 % 1"
   ]
  },
  {
   "cell_type": "code",
   "execution_count": 17,
   "id": "d88fb48b",
   "metadata": {},
   "outputs": [],
   "source": [
    "a = np.random.rand(4,4,3)\n",
    "b = np.random.rand(4,4,3)\n",
    "c = np.random.rand(4,4,3)"
   ]
  },
  {
   "cell_type": "code",
   "execution_count": 18,
   "id": "10f97850",
   "metadata": {},
   "outputs": [],
   "source": [
    "unit = np.stack([a,b,c], axis=2)"
   ]
  },
  {
   "cell_type": "code",
   "execution_count": 19,
   "id": "de75e8ac",
   "metadata": {},
   "outputs": [
    {
     "data": {
      "text/plain": [
       "(4, 4, 3, 3)"
      ]
     },
     "execution_count": 19,
     "metadata": {},
     "output_type": "execute_result"
    }
   ],
   "source": [
    "unit.shape"
   ]
  },
  {
   "cell_type": "code",
   "execution_count": 33,
   "id": "5f9fd79f",
   "metadata": {},
   "outputs": [
    {
     "data": {
      "text/plain": [
       "array([0.08035313, 0.06188116, 0.00235755, 0.06389794])"
      ]
     },
     "execution_count": 33,
     "metadata": {},
     "output_type": "execute_result"
    }
   ],
   "source": [
    "a[a<0.1]"
   ]
  },
  {
   "cell_type": "code",
   "execution_count": 36,
   "id": "07e747ea",
   "metadata": {},
   "outputs": [
    {
     "data": {
      "text/plain": [
       "array([0.08035313, 0.06188116, 0.00235755, 0.06389794])"
      ]
     },
     "execution_count": 36,
     "metadata": {},
     "output_type": "execute_result"
    }
   ],
   "source": [
    "a[np.where(a<0.1)]"
   ]
  },
  {
   "cell_type": "code",
   "execution_count": 2,
   "id": "1ab25173",
   "metadata": {},
   "outputs": [],
   "source": [
    "import os\n",
    "import argparse\n",
    "from glob import glob\n",
    "\n",
    "#parser = argparse.ArgumentParser(description = 'video_trans_img')\n",
    "#parser.add_argument('--dataset', type = str, default='tennis_FOV_dataset', help = 'input your custom dataset folder path')\n",
    "#args = parser.parse_args()\n",
    "\n",
    "path = \"./\" + \"tennis_FOV_dataset\"\n",
    "file_list = os.listdir(path)"
   ]
  },
  {
   "cell_type": "code",
   "execution_count": 4,
   "id": "81e570f7",
   "metadata": {},
   "outputs": [
    {
     "ename": "NameError",
     "evalue": "name 'game_list' is not defined",
     "output_type": "error",
     "traceback": [
      "\u001b[0;31m---------------------------------------------------------------------------\u001b[0m",
      "\u001b[0;31mNameError\u001b[0m                                 Traceback (most recent call last)",
      "\u001b[0;32m/tmp/ipykernel_3550/1192540252.py\u001b[0m in \u001b[0;36m<module>\u001b[0;34m\u001b[0m\n\u001b[0;32m----> 1\u001b[0;31m \u001b[0mp\u001b[0m \u001b[0;34m=\u001b[0m \u001b[0mos\u001b[0m\u001b[0;34m.\u001b[0m\u001b[0mpath\u001b[0m\u001b[0;34m.\u001b[0m\u001b[0mjoin\u001b[0m\u001b[0;34m(\u001b[0m\u001b[0;34m\"tennis_FOV_dataset\"\u001b[0m\u001b[0;34m,\u001b[0m \u001b[0mgame_list\u001b[0m\u001b[0;34m[\u001b[0m\u001b[0;36m0\u001b[0m\u001b[0;34m]\u001b[0m\u001b[0;34m,\u001b[0m \u001b[0;34m'frame'\u001b[0m\u001b[0;34m,\u001b[0m \u001b[0;34m'1_00_02'\u001b[0m\u001b[0;34m,\u001b[0m \u001b[0;34m'1.png'\u001b[0m\u001b[0;34m)\u001b[0m\u001b[0;34m\u001b[0m\u001b[0;34m\u001b[0m\u001b[0m\n\u001b[0m",
      "\u001b[0;31mNameError\u001b[0m: name 'game_list' is not defined"
     ]
    }
   ],
   "source": [
    "p = os.path.join(\"tennis_FOV_dataset\", game_list[0], 'frame', '1_00_02', '1.png')"
   ]
  },
  {
   "cell_type": "code",
   "execution_count": 5,
   "id": "5b967773",
   "metadata": {},
   "outputs": [],
   "source": [
    "p = os.path.join(path, file_list[0], 'rally_video', '*mp4')"
   ]
  },
  {
   "cell_type": "code",
   "execution_count": 6,
   "id": "d3e7842e",
   "metadata": {},
   "outputs": [
    {
     "data": {
      "text/plain": [
       "['match_4', 'match_6', 'match_5', 'match_3', 'match_1', 'match_2']"
      ]
     },
     "execution_count": 6,
     "metadata": {},
     "output_type": "execute_result"
    }
   ],
   "source": [
    "os.listdir(path)"
   ]
  },
  {
   "cell_type": "code",
   "execution_count": 19,
   "id": "1aaf6f8e",
   "metadata": {},
   "outputs": [],
   "source": [
    "videoName = glob(p)"
   ]
  },
  {
   "cell_type": "code",
   "execution_count": 32,
   "id": "83dae641",
   "metadata": {},
   "outputs": [],
   "source": [
    "rallyName = videoName[0][len(os.path.join(file_list[0], 'rally_video'))+1:-4]"
   ]
  },
  {
   "cell_type": "code",
   "execution_count": 33,
   "id": "290ec84f",
   "metadata": {},
   "outputs": [
    {
     "data": {
      "text/plain": [
       "'/match_4/rally_video/6'"
      ]
     },
     "execution_count": 33,
     "metadata": {},
     "output_type": "execute_result"
    }
   ],
   "source": [
    "rallyName"
   ]
  },
  {
   "cell_type": "code",
   "execution_count": 31,
   "id": "cb637aca",
   "metadata": {},
   "outputs": [
    {
     "data": {
      "text/plain": [
       "20"
      ]
     },
     "execution_count": 31,
     "metadata": {},
     "output_type": "execute_result"
    }
   ],
   "source": [
    "len(os.path.join(file_list[0], 'rally_video'))+1"
   ]
  },
  {
   "cell_type": "code",
   "execution_count": 44,
   "id": "6ec54554",
   "metadata": {},
   "outputs": [
    {
     "data": {
      "text/plain": [
       "'./tennis_FOV_dataset/match_4/rally_video/6'"
      ]
     },
     "execution_count": 44,
     "metadata": {},
     "output_type": "execute_result"
    }
   ],
   "source": [
    "videoName[0][:-4]"
   ]
  },
  {
   "cell_type": "code",
   "execution_count": 45,
   "id": "919409b4",
   "metadata": {},
   "outputs": [
    {
     "data": {
      "text/plain": [
       "['.', 'tennis_FOV_dataset', 'match_4', 'rally_video', '6']"
      ]
     },
     "execution_count": 45,
     "metadata": {},
     "output_type": "execute_result"
    }
   ],
   "source": [
    "output = videoName[0][:-4].split('/')\n",
    "output"
   ]
  },
  {
   "cell_type": "code",
   "execution_count": 50,
   "id": "36b095f2",
   "metadata": {},
   "outputs": [
    {
     "data": {
      "text/plain": [
       "'./tennis_FOV_dataset/match_4/frame/6'"
      ]
     },
     "execution_count": 50,
     "metadata": {},
     "output_type": "execute_result"
    }
   ],
   "source": [
    "os.path.join(output[0] , output[1],output[2],'frame'  , output[4])"
   ]
  },
  {
   "cell_type": "code",
   "execution_count": 8,
   "id": "6329b1c4",
   "metadata": {},
   "outputs": [],
   "source": [
    "data = pd.read_csv(\"./tennis_FOV_dataset/match_1/ball_trajectory/1_ball.csv\")\n",
    "no = data['Frame'].values\n",
    "v = data['Visibility'].values\n",
    "x = data['X'].values\n",
    "y = data['Y'].values\n",
    "r = data['R'].values"
   ]
  },
  {
   "cell_type": "code",
   "execution_count": 10,
   "id": "f52d057b",
   "metadata": {},
   "outputs": [
    {
     "data": {
      "text/plain": [
       "array([0, 0, 0, 0, 0, 0, 0, 3, 3, 3, 3, 3, 3, 3, 3, 3, 3, 3, 3, 3, 3, 3,\n",
       "       3, 3, 3, 3, 3, 3, 3, 3, 3, 3, 3, 3, 3, 3, 3, 3, 3, 3])"
      ]
     },
     "execution_count": 10,
     "metadata": {},
     "output_type": "execute_result"
    }
   ],
   "source": [
    "r"
   ]
  },
  {
   "cell_type": "code",
   "execution_count": 11,
   "id": "f913f54c",
   "metadata": {},
   "outputs": [],
   "source": [
    "a = (1280, 720)"
   ]
  },
  {
   "cell_type": "code",
   "execution_count": 13,
   "id": "9bd60099",
   "metadata": {},
   "outputs": [
    {
     "data": {
      "text/plain": [
       "2.5"
      ]
     },
     "execution_count": 13,
     "metadata": {},
     "output_type": "execute_result"
    }
   ],
   "source": [
    "a[1]/288"
   ]
  },
  {
   "cell_type": "code",
   "execution_count": 14,
   "id": "bb505fc2",
   "metadata": {},
   "outputs": [
    {
     "data": {
      "text/plain": [
       "2.5"
      ]
     },
     "execution_count": 14,
     "metadata": {},
     "output_type": "execute_result"
    }
   ],
   "source": [
    "a[0]/512"
   ]
  },
  {
   "cell_type": "code",
   "execution_count": 18,
   "id": "b0f04a5f",
   "metadata": {},
   "outputs": [
    {
     "data": {
      "text/plain": [
       "1.44"
      ]
     },
     "execution_count": 18,
     "metadata": {},
     "output_type": "execute_result"
    }
   ],
   "source": [
    "(3/2.5) ** 2"
   ]
  },
  {
   "cell_type": "code",
   "execution_count": 20,
   "id": "daaf203c",
   "metadata": {},
   "outputs": [
    {
     "data": {
      "text/plain": [
       "2.0"
      ]
     },
     "execution_count": 20,
     "metadata": {},
     "output_type": "execute_result"
    }
   ],
   "source": [
    "np.round(np.sqrt(9/2.5))"
   ]
  },
  {
   "cell_type": "code",
   "execution_count": 17,
   "id": "3807ca28",
   "metadata": {},
   "outputs": [],
   "source": [
    "import time\n",
    "\n",
    "def tran_input_img(img_list):\n",
    "\n",
    "    trans_img = []\n",
    "    t0 = time.time()\n",
    "\n",
    "    for i in range(len(img_list)):\n",
    "\n",
    "        img = img_list[i]\n",
    "\n",
    "        img = cv2.cvtColor(img, cv2.COLOR_BGR2RGB)\n",
    "\n",
    "        img = cv2.resize(img,(WIDTH, HEIGHT))\n",
    "        img = np.asarray(img).transpose(2, 0, 1) / 255.0\n",
    "\n",
    "        trans_img.append(img[0])\n",
    "        trans_img.append(img[1])\n",
    "        trans_img.append(img[2])\n",
    "\n",
    "    trans_img = np.asarray(trans_img)\n",
    "    t1 = time.time()\n",
    "    \n",
    "    print(t1 -t0)\n",
    "    return trans_img.reshape(1,trans_img.shape[0],trans_img.shape[1],trans_img.shape[2])"
   ]
  },
  {
   "cell_type": "code",
   "execution_count": 18,
   "id": "e15913c7",
   "metadata": {},
   "outputs": [],
   "source": [
    "a = np.zeros([288,512,3],dtype = 'uint8')\n",
    "b = np.zeros([288,512,3],dtype = 'uint8')\n",
    "c = np.zeros([288,512,3],dtype = 'uint8')\n",
    "img_list = [a,b,c]"
   ]
  },
  {
   "cell_type": "code",
   "execution_count": 20,
   "id": "33f8f7fa",
   "metadata": {
    "scrolled": true
   },
   "outputs": [
    {
     "name": "stdout",
     "output_type": "stream",
     "text": [
      "0.009733438491821289\n"
     ]
    }
   ],
   "source": [
    "z = tran_input_img(img_list)"
   ]
  },
  {
   "cell_type": "code",
   "execution_count": 21,
   "id": "a9835b7b",
   "metadata": {},
   "outputs": [],
   "source": [
    "import matplotlib.pyplot as plt\n"
   ]
  },
  {
   "cell_type": "code",
   "execution_count": 28,
   "id": "c6d14289",
   "metadata": {},
   "outputs": [
    {
     "data": {
      "image/png": "[encoded data removed]",
      "text/plain": [
       "<Figure size 720x576 with 1 Axes>"
      ]
     },
     "metadata": {
      "needs_background": "light"
     },
     "output_type": "display_data"
    }
   ],
   "source": [
    "plt.figure(figsize=(10, 8))\n",
    "plt.xlabel(\"Epoch\")\n",
    "plt.ylabel(\"Loss\")\n",
    "plt.title('Loss of TrackNet3')\n",
    "train_loss_plt = plt.plot(3, 1, marker=\".\")\n",
    "\n",
    "plt.savefig('Loss_of_{}.jpg'.format(3))\n"
   ]
  },
  {
   "cell_type": "code",
   "execution_count": null,
   "id": "8e90f1fa",
   "metadata": {},
   "outputs": [],
   "source": []
  }
 ],
 "metadata": {
  "kernelspec": {
   "display_name": "Python 3 (ipykernel)",
   "language": "python",
   "name": "python3"
  },
  "language_info": {
   "codemirror_mode": {
    "name": "ipython",
    "version": 3
   },
   "file_extension": ".py",
   "mimetype": "text/x-python",
   "name": "python",
   "nbconvert_exporter": "python",
   "pygments_lexer": "ipython3",
   "version": "3.7.11"
  }
 },
 "nbformat": 4,
 "nbformat_minor": 5
}
